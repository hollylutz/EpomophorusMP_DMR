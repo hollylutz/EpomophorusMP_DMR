{
 "cells": [
  {
   "cell_type": "code",
   "execution_count": 2,
   "metadata": {},
   "outputs": [],
   "source": [
    "library(phyloseq)\n",
    "library(ggplot2)\n",
    "library(vegan)\n",
    "library(readr)\n",
    "library(data.table)\n",
    "library(dplyr)\n",
    "library(stats)\n",
    "library(ggpubr)\n",
    "library(dunn.test)"
   ]
  },
  {
   "cell_type": "code",
   "execution_count": 7,
   "metadata": {},
   "outputs": [
    {
     "name": "stderr",
     "output_type": "stream",
     "text": [
      "Warning message in strsplit(msg, \"\\n\"):\n",
      "“input string 1 is invalid in this locale”"
     ]
    }
   ],
   "source": [
    "setwd(\"/gpfs/data/gilbert-lab/Lutz/Epomophorus/ps_files\")\n",
    "#make ps object\n",
    "biom <- import_biom(\"epomophorus_deblur.biom\")\n",
    "map <- import_qiime_sample_data(\"DMR_mapfile.txt\")\n",
    "tree <- read_tree(\"rep_phylo.tre\")\n",
    "bat_nt <- merge_phyloseq(biom,tree,map)\n",
    "bat_nt <- prune_samples((sample_sums(bat_nt) > 1000), bat_nt)\n",
    "#transform\n",
    "bat_t <- bat_nt %>%\n",
    "    transform_sample_counts(function(x) x / sum(x))\n",
    "#save files\n",
    "saveRDS(bat_nt, \"../RDSfiles/bat_nt.rds\")\n",
    "saveRDS(bat_t, \"../RDSfiles/bat_t.rds\")\n"
   ]
  },
  {
   "cell_type": "code",
   "execution_count": 8,
   "metadata": {},
   "outputs": [
    {
     "data": {
      "text/plain": [
       "phyloseq-class experiment-level object\n",
       "otu_table()   OTU Table:         [ 562 taxa and 47 samples ]\n",
       "sample_data() Sample Data:       [ 47 samples by 13 sample variables ]\n",
       "tax_table()   Taxonomy Table:    [ 562 taxa by 7 taxonomic ranks ]\n",
       "phy_tree()    Phylogenetic Tree: [ 562 tips and 560 internal nodes ]"
      ]
     },
     "metadata": {},
     "output_type": "display_data"
    },
    {
     "data": {
      "text/plain": [
       "phyloseq-class experiment-level object\n",
       "otu_table()   OTU Table:         [ 562 taxa and 47 samples ]\n",
       "sample_data() Sample Data:       [ 47 samples by 13 sample variables ]\n",
       "tax_table()   Taxonomy Table:    [ 562 taxa by 7 taxonomic ranks ]\n",
       "phy_tree()    Phylogenetic Tree: [ 562 tips and 560 internal nodes ]"
      ]
     },
     "metadata": {},
     "output_type": "display_data"
    }
   ],
   "source": [
    "bat_nt\n",
    "bat_t"
   ]
  },
  {
   "cell_type": "code",
   "execution_count": 9,
   "metadata": {},
   "outputs": [
    {
     "name": "stderr",
     "output_type": "stream",
     "text": [
      "`stat_bin()` using `bins = 30`. Pick better value with `binwidth`.\n"
     ]
    },
    {
     "data": {
      "image/png": "[encoded data removed]",
      "text/plain": [
       "plot without title"
      ]
     },
     "metadata": {},
     "output_type": "display_data"
    }
   ],
   "source": [
    "batrun_sdt = data.table(as(sample_data(bat_nt), \"data.frame\"),\n",
    "                 TotalReads = sample_sums(bat_nt), keep.rownames = TRUE)\n",
    "setnames(batrun_sdt, \"rn\", \"SampleName\")\n",
    "pSeqDepth = ggplot(batrun_sdt, aes(TotalReads)) + geom_histogram() + ggtitle(\"Sequencing Depth: Non-rarefied\")\n",
    "pSeqDepth"
   ]
  },
  {
   "cell_type": "code",
   "execution_count": 10,
   "metadata": {},
   "outputs": [
    {
     "data": {
      "text/html": [
       "<table>\n",
       "<thead><tr><th scope=col>Sex</th><th scope=col>avg</th><th scope=col>sd</th><th scope=col>sem</th></tr></thead>\n",
       "<tbody>\n",
       "\t<tr><td>Female  </td><td>13029.80</td><td>7084.226</td><td>1584.081</td></tr>\n",
       "\t<tr><td>Male    </td><td>15518.81</td><td>7268.422</td><td>1398.809</td></tr>\n",
       "</tbody>\n",
       "</table>\n"
      ],
      "text/latex": [
       "\\begin{tabular}{r|llll}\n",
       " Sex & avg & sd & sem\\\\\n",
       "\\hline\n",
       "\t Female   & 13029.80 & 7084.226 & 1584.081\\\\\n",
       "\t Male     & 15518.81 & 7268.422 & 1398.809\\\\\n",
       "\\end{tabular}\n"
      ],
      "text/markdown": [
       "\n",
       "| Sex | avg | sd | sem |\n",
       "|---|---|---|---|\n",
       "| Female   | 13029.80 | 7084.226 | 1584.081 |\n",
       "| Male     | 15518.81 | 7268.422 | 1398.809 |\n",
       "\n"
      ],
      "text/plain": [
       "  Sex    avg      sd       sem     \n",
       "1 Female 13029.80 7084.226 1584.081\n",
       "2 Male   15518.81 7268.422 1398.809"
      ]
     },
     "metadata": {},
     "output_type": "display_data"
    }
   ],
   "source": [
    "batrun.summary = batrun_sdt %>%\n",
    "    group_by(Sex) %>%\n",
    "summarise(avg = mean(TotalReads), \n",
    "              sd = sd(TotalReads), \n",
    "              sem = sd/sqrt(length(TotalReads))) %>%\n",
    "    arrange((Sex))\n",
    "batrun.summary[complete.cases(batrun.summary),]"
   ]
  }
 ],
 "metadata": {
  "kernelspec": {
   "display_name": "R 3.4.1",
   "language": "R",
   "name": "ir3.4.1"
  },
  "language_info": {
   "codemirror_mode": "r",
   "file_extension": ".r",
   "mimetype": "text/x-r-source",
   "name": "R",
   "pygments_lexer": "r",
   "version": "3.4.1"
  }
 },
 "nbformat": 4,
 "nbformat_minor": 2
}
